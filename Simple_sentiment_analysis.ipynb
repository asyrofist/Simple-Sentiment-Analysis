{
  "nbformat": 4,
  "nbformat_minor": 0,
  "metadata": {
    "colab": {
      "name": "Simple_sentiment_analysis.ipynb",
      "version": "0.3.2",
      "provenance": []
    },
    "kernelspec": {
      "name": "python3",
      "display_name": "Python 3"
    }
  },
  "cells": [
    {
      "cell_type": "markdown",
      "metadata": {
        "id": "view-in-github",
        "colab_type": "text"
      },
      "source": [
        "[View in Colaboratory](https://colab.research.google.com/github/kumarshankar/Simple-Sentiment-Analysis/blob/master/Simple_sentiment_analysis.ipynb)"
      ]
    },
    {
      "metadata": {
        "id": "RGWE_ltouzgA",
        "colab_type": "code",
        "colab": {}
      },
      "cell_type": "code",
      "source": [
        "import numpy as np\n",
        "import pandas as pd\n",
        "from pprint import pprint\n",
        "import nltk\n",
        "import yaml\n",
        "import sys\n",
        "import os\n",
        "import re"
      ],
      "execution_count": 0,
      "outputs": []
    },
    {
      "metadata": {
        "id": "LbXLX5-HfrjG",
        "colab_type": "code",
        "colab": {}
      },
      "cell_type": "code",
      "source": [
        "os.mkdir('dict')\n",
        "os.chdir('dict')"
      ],
      "execution_count": 0,
      "outputs": []
    },
    {
      "metadata": {
        "id": "dJSfB5dGcXTP",
        "colab_type": "code",
        "colab": {
          "resources": {
            "http://localhost:8080/nbextensions/google.colab/files.js": {
              "data": "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",
              "ok": true,
              "headers": [
                [
                  "content-type",
                  "application/javascript"
                ]
              ],
              "status": 200,
              "status_text": ""
            }
          },
          "base_uri": "https://localhost:8080/",
          "height": 208
        },
        "outputId": "f796882a-f048-4317-ecf4-bcc05f751201"
      },
      "cell_type": "code",
      "source": [
        "from google.colab import files\n",
        "uploaded = files.upload()"
      ],
      "execution_count": 34,
      "outputs": [
        {
          "output_type": "display_data",
          "data": {
            "text/html": [
              "\n",
              "     <input type=\"file\" id=\"files-29a3db83-f9ff-44b6-8cb4-2db4b3d7a7c7\" name=\"files[]\" multiple disabled />\n",
              "     <output id=\"result-29a3db83-f9ff-44b6-8cb4-2db4b3d7a7c7\">\n",
              "      Upload widget is only available when the cell has been executed in the\n",
              "      current browser session. Please rerun this cell to enable.\n",
              "      </output>\n",
              "      <script src=\"/nbextensions/google.colab/files.js\"></script> "
            ],
            "text/plain": [
              "<IPython.core.display.HTML object>"
            ]
          },
          "metadata": {
            "tags": []
          }
        },
        {
          "output_type": "stream",
          "text": [
            "Saving dec.yml to dec.yml\n",
            "Saving inc.yml to inc.yml\n",
            "Saving inv.yml to inv.yml\n",
            "Saving negative.yml to negative.yml\n",
            "Saving positive.yml to positive.yml\n"
          ],
          "name": "stdout"
        }
      ]
    },
    {
      "metadata": {
        "id": "1qMdsFUKfyFe",
        "colab_type": "code",
        "colab": {}
      },
      "cell_type": "code",
      "source": [
        "for fn in uploaded.keys():\n",
        "  print('User uploaded file \"{name}\" with length {length} bytes'.format(\n",
        "      name=fn, length=len(uploaded[fn])))"
      ],
      "execution_count": 0,
      "outputs": []
    },
    {
      "metadata": {
        "id": "9P_-Ui-Qe5sm",
        "colab_type": "code",
        "colab": {}
      },
      "cell_type": "code",
      "source": [
        "os.chdir(\"..\")"
      ],
      "execution_count": 0,
      "outputs": []
    },
    {
      "metadata": {
        "id": "8oZWJLbLg3M-",
        "colab_type": "code",
        "colab": {
          "base_uri": "https://localhost:8080/",
          "height": 68
        },
        "outputId": "e4c13f86-c3ce-46b0-b195-4cdeaf0ca044"
      },
      "cell_type": "code",
      "source": [
        "#nltk.download('punkt')"
      ],
      "execution_count": 55,
      "outputs": [
        {
          "output_type": "stream",
          "text": [
            "[nltk_data] Downloading package punkt to /content/nltk_data...\n",
            "[nltk_data]   Unzipping tokenizers/punkt.zip.\n"
          ],
          "name": "stdout"
        },
        {
          "output_type": "execute_result",
          "data": {
            "text/plain": [
              "True"
            ]
          },
          "metadata": {
            "tags": []
          },
          "execution_count": 55
        }
      ]
    },
    {
      "metadata": {
        "id": "mcXvIXt2hGZH",
        "colab_type": "code",
        "colab": {
          "base_uri": "https://localhost:8080/",
          "height": 85
        },
        "outputId": "4848edba-4971-4b12-db47-d6087eed3b0a"
      },
      "cell_type": "code",
      "source": [
        "#nltk.download('averaged_perceptron_tagger')"
      ],
      "execution_count": 59,
      "outputs": [
        {
          "output_type": "stream",
          "text": [
            "[nltk_data] Downloading package averaged_perceptron_tagger to\n",
            "[nltk_data]     /content/nltk_data...\n",
            "[nltk_data]   Unzipping taggers/averaged_perceptron_tagger.zip.\n"
          ],
          "name": "stdout"
        },
        {
          "output_type": "execute_result",
          "data": {
            "text/plain": [
              "True"
            ]
          },
          "metadata": {
            "tags": []
          },
          "execution_count": 59
        }
      ]
    },
    {
      "metadata": {
        "id": "sVtn8U_vF6o0",
        "colab_type": "code",
        "colab": {}
      },
      "cell_type": "code",
      "source": [
        "class Splitter(object):\n",
        "\n",
        "    def __init__(self):\n",
        "        self.nltk_splitter = nltk.data.load('nltk:tokenizers/punkt/english.pickle')\n",
        "        self.nltk_tokenizer = nltk.tokenize.TreebankWordTokenizer()\n",
        "\n",
        "    def split(self, text):\n",
        "        \"\"\"\n",
        "        input format: a paragraph of text\n",
        "        output format: a list of lists of words.\n",
        "            e.g.: [['this', 'is', 'a', 'sentence'], ['this', 'is', 'another', 'one']]\n",
        "        \"\"\"\n",
        "        sentences = self.nltk_splitter.tokenize(text)\n",
        "        tokenized_sentences = [self.nltk_tokenizer.tokenize(sent) for sent in sentences]\n",
        "        return tokenized_sentences"
      ],
      "execution_count": 0,
      "outputs": []
    },
    {
      "metadata": {
        "id": "wNEuB8cZI7gg",
        "colab_type": "code",
        "colab": {}
      },
      "cell_type": "code",
      "source": [
        "class POSTagger(object):\n",
        "\n",
        "    def __init__(self):\n",
        "        pass\n",
        "        \n",
        "    def pos_tag(self, sentences):\n",
        "        \"\"\"\n",
        "        input format: list of lists of words\n",
        "            e.g.: [['this', 'is', 'a', 'sentence'], ['this', 'is', 'another', 'one']]\n",
        "        output format: list of lists of tagged tokens. Each tagged tokens has a\n",
        "        form, a lemma, and a list of tags\n",
        "            e.g: [[('this', 'this', ['DT']), ('is', 'be', ['VB']), ('a', 'a', ['DT']), ('sentence', 'sentence', ['NN'])],\n",
        "                    [('this', 'this', ['DT']), ('is', 'be', ['VB']), ('another', 'another', ['DT']), ('one', 'one', ['CARD'])]]\n",
        "        \"\"\"\n",
        "\n",
        "        pos = [nltk.pos_tag(sentence) for sentence in sentences]\n",
        "        #adapt format\n",
        "        pos = [[(word, word, [postag]) for (word, postag) in sentence] for sentence in pos]\n",
        "        return pos"
      ],
      "execution_count": 0,
      "outputs": []
    },
    {
      "metadata": {
        "id": "UWLQRxZqKSD3",
        "colab_type": "code",
        "colab": {}
      },
      "cell_type": "code",
      "source": [
        "class DictionaryTagger(object):\n",
        "\n",
        "    def __init__(self, dictionary_paths):\n",
        "        files = [open(path, 'r') for path in dictionary_paths]\n",
        "        dictionaries = [yaml.load(dict_file) for dict_file in files]\n",
        "        map(lambda x: x.close(), files)\n",
        "        self.dictionary = {}\n",
        "        self.max_key_size = 0\n",
        "        for curr_dict in dictionaries:\n",
        "            for key in curr_dict:\n",
        "                if key in self.dictionary:\n",
        "                    self.dictionary[key].extend(curr_dict[key])\n",
        "                else:\n",
        "                    self.dictionary[key] = curr_dict[key]\n",
        "                    self.max_key_size = max(self.max_key_size, len(key))\n",
        "\n",
        "    def tag(self, postagged_sentences):\n",
        "        return [self.tag_sentence(sentence) for sentence in postagged_sentences]\n",
        "\n",
        "    def tag_sentence(self, sentence, tag_with_lemmas=False):\n",
        "        \"\"\"\n",
        "        the result is only one tagging of all the possible ones.\n",
        "        The resulting tagging is determined by these two priority rules:\n",
        "            - longest matches have higher priority\n",
        "            - search is made from left to right\n",
        "        \"\"\"\n",
        "        tag_sentence = []\n",
        "        N = len(sentence)\n",
        "        if self.max_key_size == 0:\n",
        "            self.max_key_size = N\n",
        "        i = 0\n",
        "        while (i < N):\n",
        "            j = min(i + self.max_key_size, N) #avoid overflow\n",
        "            tagged = False\n",
        "            while (j > i):\n",
        "                expression_form = ' '.join([word[0] for word in sentence[i:j]]).lower()\n",
        "                expression_lemma = ' '.join([word[1] for word in sentence[i:j]]).lower()\n",
        "                if tag_with_lemmas:\n",
        "                    literal = expression_lemma\n",
        "                else:\n",
        "                    literal = expression_form\n",
        "                if literal in self.dictionary:\n",
        "                    #self.logger.debug(\"found: %s\" % literal)\n",
        "                    is_single_token = j - i == 1\n",
        "                    original_position = i\n",
        "                    i = j\n",
        "                    taggings = [tag for tag in self.dictionary[literal]]\n",
        "                    tagged_expression = (expression_form, expression_lemma, taggings)\n",
        "                    if is_single_token: #if the tagged literal is a single token, conserve its previous taggings:\n",
        "                        original_token_tagging = sentence[original_position][2]\n",
        "                        tagged_expression[2].extend(original_token_tagging)\n",
        "                    tag_sentence.append(tagged_expression)\n",
        "                    tagged = True\n",
        "                else:\n",
        "                    j = j - 1\n",
        "            if not tagged:\n",
        "                tag_sentence.append(sentence[i])\n",
        "                i += 1\n",
        "        return tag_sentence"
      ],
      "execution_count": 0,
      "outputs": []
    },
    {
      "metadata": {
        "id": "pcx7gHJkZ4ro",
        "colab_type": "code",
        "colab": {}
      },
      "cell_type": "code",
      "source": [
        "def value_of(sentiment):\n",
        "    if sentiment == 'positive': return 1\n",
        "    if sentiment == 'negative': return -1\n",
        "    return 0\n",
        "  \n",
        "def sentence_score(sentence_tokens, previous_token, acum_score):    \n",
        "    if not sentence_tokens:\n",
        "        return acum_score\n",
        "    else:\n",
        "        current_token = sentence_tokens[0]\n",
        "        tags = current_token[2]\n",
        "        token_score = sum([value_of(tag) for tag in tags])\n",
        "        if previous_token is not None:\n",
        "            previous_tags = previous_token[2]\n",
        "            if 'inc' in previous_tags:\n",
        "                token_score *= 2.0\n",
        "            elif 'dec' in previous_tags:\n",
        "                token_score /= 2.0\n",
        "            elif 'inv' in previous_tags:\n",
        "                token_score *= -1.0\n",
        "        return sentence_score(sentence_tokens[1:], current_token, acum_score + token_score)\n",
        "   \n",
        "def sentiment_score(review):\n",
        "    return sum([sentence_score(sentence, None, 0.0) for sentence in review])"
      ],
      "execution_count": 0,
      "outputs": []
    },
    {
      "metadata": {
        "id": "Brme4L1vaQJb",
        "colab_type": "code",
        "colab": {
          "base_uri": "https://localhost:8080/",
          "height": 3332
        },
        "outputId": "b9408cf8-71b2-406e-8385-46214c0c2d3d"
      },
      "cell_type": "code",
      "source": [
        "if __name__ == \"__main__\":\n",
        "    text = \"\"\"What can I say about this place. The staff of the restaurant is \n",
        "    nice and the eggplant is not bad. Apart from that, very uninspired food, \n",
        "    lack of atmosphere and too expensive. I am a staunch vegetarian and was \n",
        "    sorely dissapointed with the veggie options on the menu. Will be the last \n",
        "    time I visit, I recommend others to avoid.\"\"\"\n",
        "    \n",
        "    splitter = Splitter()\n",
        "    postagger = POSTagger()\n",
        "    dicttagger = DictionaryTagger(['dict/positive.yml','dict/negative.yml','dict/inc.yml', 'dict/dec.yml', 'dict/inv.yml'])\n",
        "    \n",
        "    splitted_sentences = splitter.split(text)\n",
        "    pprint(splitted_sentences)\n",
        "    \n",
        "    pos_tagged_sentences = postagger.pos_tag(splitted_sentences)\n",
        "    pprint(pos_tagged_sentences)\n",
        "    \n",
        "    dict_tagged_sentences = dicttagger.tag(pos_tagged_sentences)\n",
        "    pprint(dict_tagged_sentences)\n",
        "    \n",
        "    print(\"analyzing sentiment...\")\n",
        "    score = sentiment_score(dict_tagged_sentences)\n",
        "    print(score)    "
      ],
      "execution_count": 60,
      "outputs": [
        {
          "output_type": "stream",
          "text": [
            "[['What', 'can', 'I', 'say', 'about', 'this', 'place', '.'],\n",
            " ['The',\n",
            "  'staff',\n",
            "  'of',\n",
            "  'the',\n",
            "  'restaurant',\n",
            "  'is',\n",
            "  'nice',\n",
            "  'and',\n",
            "  'the',\n",
            "  'eggplant',\n",
            "  'is',\n",
            "  'not',\n",
            "  'bad',\n",
            "  '.'],\n",
            " ['Apart',\n",
            "  'from',\n",
            "  'that',\n",
            "  ',',\n",
            "  'very',\n",
            "  'uninspired',\n",
            "  'food',\n",
            "  ',',\n",
            "  'lack',\n",
            "  'of',\n",
            "  'atmosphere',\n",
            "  'and',\n",
            "  'too',\n",
            "  'expensive',\n",
            "  '.'],\n",
            " ['I',\n",
            "  'am',\n",
            "  'a',\n",
            "  'staunch',\n",
            "  'vegetarian',\n",
            "  'and',\n",
            "  'was',\n",
            "  'sorely',\n",
            "  'dissapointed',\n",
            "  'with',\n",
            "  'the',\n",
            "  'veggie',\n",
            "  'options',\n",
            "  'on',\n",
            "  'the',\n",
            "  'menu',\n",
            "  '.'],\n",
            " ['Will',\n",
            "  'be',\n",
            "  'the',\n",
            "  'last',\n",
            "  'time',\n",
            "  'I',\n",
            "  'visit',\n",
            "  ',',\n",
            "  'I',\n",
            "  'recommend',\n",
            "  'others',\n",
            "  'to',\n",
            "  'avoid',\n",
            "  '.']]\n",
            "[[('What', 'What', ['WP']),\n",
            "  ('can', 'can', ['MD']),\n",
            "  ('I', 'I', ['PRP']),\n",
            "  ('say', 'say', ['VBP']),\n",
            "  ('about', 'about', ['IN']),\n",
            "  ('this', 'this', ['DT']),\n",
            "  ('place', 'place', ['NN']),\n",
            "  ('.', '.', ['.'])],\n",
            " [('The', 'The', ['DT']),\n",
            "  ('staff', 'staff', ['NN']),\n",
            "  ('of', 'of', ['IN']),\n",
            "  ('the', 'the', ['DT']),\n",
            "  ('restaurant', 'restaurant', ['NN']),\n",
            "  ('is', 'is', ['VBZ']),\n",
            "  ('nice', 'nice', ['JJ']),\n",
            "  ('and', 'and', ['CC']),\n",
            "  ('the', 'the', ['DT']),\n",
            "  ('eggplant', 'eggplant', ['NN']),\n",
            "  ('is', 'is', ['VBZ']),\n",
            "  ('not', 'not', ['RB']),\n",
            "  ('bad', 'bad', ['JJ']),\n",
            "  ('.', '.', ['.'])],\n",
            " [('Apart', 'Apart', ['RB']),\n",
            "  ('from', 'from', ['IN']),\n",
            "  ('that', 'that', ['IN']),\n",
            "  (',', ',', [',']),\n",
            "  ('very', 'very', ['RB']),\n",
            "  ('uninspired', 'uninspired', ['JJ']),\n",
            "  ('food', 'food', ['NN']),\n",
            "  (',', ',', [',']),\n",
            "  ('lack', 'lack', ['NN']),\n",
            "  ('of', 'of', ['IN']),\n",
            "  ('atmosphere', 'atmosphere', ['NN']),\n",
            "  ('and', 'and', ['CC']),\n",
            "  ('too', 'too', ['RB']),\n",
            "  ('expensive', 'expensive', ['JJ']),\n",
            "  ('.', '.', ['.'])],\n",
            " [('I', 'I', ['PRP']),\n",
            "  ('am', 'am', ['VBP']),\n",
            "  ('a', 'a', ['DT']),\n",
            "  ('staunch', 'staunch', ['NN']),\n",
            "  ('vegetarian', 'vegetarian', ['NN']),\n",
            "  ('and', 'and', ['CC']),\n",
            "  ('was', 'was', ['VBD']),\n",
            "  ('sorely', 'sorely', ['RB']),\n",
            "  ('dissapointed', 'dissapointed', ['VBN']),\n",
            "  ('with', 'with', ['IN']),\n",
            "  ('the', 'the', ['DT']),\n",
            "  ('veggie', 'veggie', ['NN']),\n",
            "  ('options', 'options', ['NNS']),\n",
            "  ('on', 'on', ['IN']),\n",
            "  ('the', 'the', ['DT']),\n",
            "  ('menu', 'menu', ['NN']),\n",
            "  ('.', '.', ['.'])],\n",
            " [('Will', 'Will', ['MD']),\n",
            "  ('be', 'be', ['VB']),\n",
            "  ('the', 'the', ['DT']),\n",
            "  ('last', 'last', ['JJ']),\n",
            "  ('time', 'time', ['NN']),\n",
            "  ('I', 'I', ['PRP']),\n",
            "  ('visit', 'visit', ['VBP']),\n",
            "  (',', ',', [',']),\n",
            "  ('I', 'I', ['PRP']),\n",
            "  ('recommend', 'recommend', ['VBP']),\n",
            "  ('others', 'others', ['NNS']),\n",
            "  ('to', 'to', ['TO']),\n",
            "  ('avoid', 'avoid', ['VB']),\n",
            "  ('.', '.', ['.'])]]\n",
            "[[('What', 'What', ['WP']),\n",
            "  ('can', 'can', ['MD']),\n",
            "  ('I', 'I', ['PRP']),\n",
            "  ('say', 'say', ['VBP']),\n",
            "  ('about', 'about', ['IN']),\n",
            "  ('this', 'this', ['DT']),\n",
            "  ('place', 'place', ['NN']),\n",
            "  ('.', '.', ['.'])],\n",
            " [('The', 'The', ['DT']),\n",
            "  ('staff', 'staff', ['NN']),\n",
            "  ('of', 'of', ['IN']),\n",
            "  ('the', 'the', ['DT']),\n",
            "  ('restaurant', 'restaurant', ['NN']),\n",
            "  ('is', 'is', ['VBZ']),\n",
            "  ('nice', 'nice', ['positive', 'JJ']),\n",
            "  ('and', 'and', ['CC']),\n",
            "  ('the', 'the', ['DT']),\n",
            "  ('eggplant', 'eggplant', ['NN']),\n",
            "  ('is', 'is', ['VBZ']),\n",
            "  ('not', 'not', ['inv', 'RB']),\n",
            "  ('bad', 'bad', ['negative', 'JJ']),\n",
            "  ('.', '.', ['.'])],\n",
            " [('Apart', 'Apart', ['RB']),\n",
            "  ('from', 'from', ['IN']),\n",
            "  ('that', 'that', ['IN']),\n",
            "  (',', ',', [',']),\n",
            "  ('very', 'very', ['inc', 'RB']),\n",
            "  ('uninspired', 'uninspired', ['negative', 'JJ']),\n",
            "  ('food', 'food', ['NN']),\n",
            "  (',', ',', [',']),\n",
            "  ('lack of', 'lack of', ['inv']),\n",
            "  ('atmosphere', 'atmosphere', ['NN']),\n",
            "  ('and', 'and', ['CC']),\n",
            "  ('too', 'too', ['inc', 'RB']),\n",
            "  ('expensive', 'expensive', ['negative', 'JJ']),\n",
            "  ('.', '.', ['.'])],\n",
            " [('I', 'I', ['PRP']),\n",
            "  ('am', 'am', ['VBP']),\n",
            "  ('a', 'a', ['DT']),\n",
            "  ('staunch', 'staunch', ['NN']),\n",
            "  ('vegetarian', 'vegetarian', ['NN']),\n",
            "  ('and', 'and', ['CC']),\n",
            "  ('was', 'was', ['VBD']),\n",
            "  ('sorely', 'sorely', ['inc', 'RB']),\n",
            "  ('dissapointed', 'dissapointed', ['negative', 'VBN']),\n",
            "  ('with', 'with', ['IN']),\n",
            "  ('the', 'the', ['DT']),\n",
            "  ('veggie', 'veggie', ['NN']),\n",
            "  ('options', 'options', ['NNS']),\n",
            "  ('on', 'on', ['IN']),\n",
            "  ('the', 'the', ['DT']),\n",
            "  ('menu', 'menu', ['NN']),\n",
            "  ('.', '.', ['.'])],\n",
            " [('Will', 'Will', ['MD']),\n",
            "  ('be', 'be', ['VB']),\n",
            "  ('the', 'the', ['DT']),\n",
            "  ('last', 'last', ['JJ']),\n",
            "  ('time', 'time', ['NN']),\n",
            "  ('I', 'I', ['PRP']),\n",
            "  ('visit', 'visit', ['VBP']),\n",
            "  (',', ',', [',']),\n",
            "  ('I', 'I', ['PRP']),\n",
            "  ('recommend others to avoid', 'recommend others to avoid', ['negative']),\n",
            "  ('.', '.', ['.'])]]\n",
            "analyzing sentiment...\n",
            "-5.0\n"
          ],
          "name": "stdout"
        }
      ]
    },
    {
      "metadata": {
        "id": "XD0fqNzhf7Oa",
        "colab_type": "code",
        "colab": {}
      },
      "cell_type": "code",
      "source": [
        ""
      ],
      "execution_count": 0,
      "outputs": []
    }
  ]
}